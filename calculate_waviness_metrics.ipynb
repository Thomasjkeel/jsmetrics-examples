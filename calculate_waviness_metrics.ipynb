{
 "cells": [
  {
   "cell_type": "markdown",
   "id": "5cff2024-297e-4a49-9709-3ce2ddc0fac3",
   "metadata": {},
   "source": [
    "# Example usage: upper-air waviness metrics\n",
    "Entire notebook takes 7 seconds to run on Intel i7-10750\n",
    "## Index\n",
    "[Francis & Vavrus 2015](#Francis-&-Vavrus-2015)  \n",
    "[Cattiaux et al. 2016](#Cattiaux-et-al.-2016)  \n",
    "\n",
    "preprint describing the package: https://egusphere.copernicus.org/preprints/2023/egusphere-2023-661/"
   ]
  },
  {
   "cell_type": "code",
   "execution_count": null,
   "id": "f4d752ff-e8e6-46b8-bbb2-e12ba8109840",
   "metadata": {},
   "outputs": [],
   "source": [
    "## For calculation of jet latitude and speed statistics\n",
    "import numpy as np\n",
    "import xarray as xr\n",
    "import jsmetrics\n",
    "print(\"xarray version:\", xr.__version__) ## tested on 0.1.3\n",
    "print(\"jsmetrics version:\", jsmetrics.__version__) ## tested on 2023.3.0\n",
    "\n",
    "## For plotting\n",
    "import matplotlib.pyplot as plt"
   ]
  },
  {
   "cell_type": "markdown",
   "id": "7a88673e-8308-458d-825b-16b3f05e8d4f",
   "metadata": {},
   "source": [
    "## load in and format ERA5 data"
   ]
  },
  {
   "cell_type": "code",
   "execution_count": null,
   "id": "c199b63e-c52c-4e3b-8eb4-0952b09b25a7",
   "metadata": {},
   "outputs": [],
   "source": [
    "ua = xr.open_dataset('data/era5_u_wind_JF21.nc')\n",
    "va = xr.open_dataset('data/era5_v_wind_JF21.nc')\n",
    "zg = xr.open_dataset('data/era5_zg_wind_JF21.nc')\n"
   ]
  },
  {
   "cell_type": "code",
   "execution_count": null,
   "id": "105587dd-6f70-4ddf-8a96-0a5567c6656c",
   "metadata": {},
   "outputs": [],
   "source": [
    "## this is necessary because jsmetrics currently only accept standardised names as input. This may change in the future\n",
    "ua = ua.rename({'longitude':'lon', 'latitude':'lat', 'level':'plev', 'u':'ua'})\n",
    "va = va.rename({'longitude':'lon', 'latitude':'lat', 'level':'plev', 'v':'va'})\n",
    "zg = zg.rename({'longitude':'lon', 'latitude':'lat', 'level':'plev'})\n"
   ]
  },
  {
   "cell_type": "code",
   "execution_count": null,
   "id": "3d82d5c8-f4a6-4b1a-a52b-7cb79fd5d907",
   "metadata": {},
   "outputs": [],
   "source": [
    "va"
   ]
  },
  {
   "cell_type": "markdown",
   "id": "d45318a6-8496-444c-b7bf-639bd52681b4",
   "metadata": {},
   "source": [
    "## Calculate metrics"
   ]
  },
  {
   "cell_type": "markdown",
   "id": "00b27108-243b-4e10-ade7-aa373baf2ad3",
   "metadata": {},
   "source": [
    "### Francis & Vavrus 2015"
   ]
  },
  {
   "cell_type": "code",
   "execution_count": null,
   "id": "ac018fc8-57e8-4355-bb6a-1acd81547d33",
   "metadata": {},
   "outputs": [],
   "source": [
    "jsmetrics.waviness_metrics.francis_vavrus_2015?"
   ]
  },
  {
   "cell_type": "code",
   "execution_count": null,
   "id": "33efb14b-739b-4baa-91d4-a7a61c9f9d8e",
   "metadata": {},
   "outputs": [],
   "source": [
    "uava = xr.merge([ua, va])"
   ]
  },
  {
   "cell_type": "code",
   "execution_count": null,
   "id": "e7f42a68-cbca-40bf-a029-92d9e7165262",
   "metadata": {},
   "outputs": [],
   "source": [
    "%%time\n",
    "# This takes ~50 milliseconds on Intel i7-10750\n",
    "mci = jsmetrics.waviness_metrics.francis_vavrus_2015(\\\n",
    "                                        uava.sel(plev=slice(500, 500)))"
   ]
  },
  {
   "cell_type": "code",
   "execution_count": null,
   "id": "07676aef-b6ea-4860-ae5c-be82e571eb7a",
   "metadata": {},
   "outputs": [],
   "source": [
    "mci['mci'].isel(time=0).plot()"
   ]
  },
  {
   "cell_type": "markdown",
   "id": "962a275b-5f98-4482-bc8e-78fc2980df5e",
   "metadata": {},
   "source": [
    "### Cattiaux et al. 2016"
   ]
  },
  {
   "cell_type": "code",
   "execution_count": null,
   "id": "c70756c7-5c9e-4f90-b5f2-5a94f95c4cb6",
   "metadata": {},
   "outputs": [],
   "source": [
    "%%time\n",
    "# In this example we look at North Hemispheric sinuosity\n",
    "# This takes 4 seconds on Intel i7-10750\n",
    "c16 = jsmetrics.waviness_metrics.cattiaux_et_al_2016(zg)"
   ]
  },
  {
   "cell_type": "code",
   "execution_count": null,
   "id": "b2861fd6-70c9-4628-9484-aeb1291b74a8",
   "metadata": {},
   "outputs": [],
   "source": [
    "c16"
   ]
  },
  {
   "cell_type": "code",
   "execution_count": null,
   "id": "a56c9392-6359-46a7-b664-9a1659eaab72",
   "metadata": {},
   "outputs": [],
   "source": [
    "c16['sinuosity'].plot()"
   ]
  },
  {
   "cell_type": "code",
   "execution_count": null,
   "id": "0e817a1a-36fc-4101-b234-70430892d62d",
   "metadata": {},
   "outputs": [],
   "source": []
  }
 ],
 "metadata": {
  "kernelspec": {
   "display_name": "Python 3 (ipykernel)",
   "language": "python",
   "name": "python3"
  },
  "language_info": {
   "codemirror_mode": {
    "name": "ipython",
    "version": 3
   },
   "file_extension": ".py",
   "mimetype": "text/x-python",
   "name": "python",
   "nbconvert_exporter": "python",
   "pygments_lexer": "ipython3",
   "version": "3.11.3"
  }
 },
 "nbformat": 4,
 "nbformat_minor": 5
}
